{
 "cells": [
  {
   "cell_type": "markdown",
   "metadata": {
    "id": "S5kHoXy8VN6m"
   },
   "source": [
    "공공데이타 - https://www.data.go.kr/dataset/15012005/fileData.do"
   ]
  },
  {
   "cell_type": "code",
   "execution_count": null,
   "metadata": {
    "id": "0PeEgpJAVN6m"
   },
   "outputs": [],
   "source": [
    "import pandas as pd\n",
    "import numpy as np\n",
    "import seaborn as sns\n",
    "import matplotlib.pyplot as plt"
   ]
  },
  {
   "cell_type": "code",
   "execution_count": null,
   "metadata": {
    "colab": {
     "base_uri": "https://localhost:8080/",
     "height": 1000
    },
    "id": "rUgIQYYvVN6n",
    "outputId": "7fd716b5-17f8-4f37-c652-a1b111dd4ccc"
   },
   "outputs": [],
   "source": [
    "df = pd.read_csv(\"상가정보_서울_202403.csv\", dtype={2: str})"
   ]
  },
  {
   "cell_type": "code",
   "execution_count": null,
   "metadata": {
    "colab": {
     "base_uri": "https://localhost:8080/"
    },
    "id": "35PMnmMMVN6n",
    "outputId": "409a2838-9483-4568-c93d-8d67740cb5e2"
   },
   "outputs": [],
   "source": [
    "df.shape"
   ]
  },
  {
   "cell_type": "code",
   "execution_count": null,
   "metadata": {
    "colab": {
     "base_uri": "https://localhost:8080/"
    },
    "id": "6ZH903JQVN6n",
    "outputId": "1d414312-5c8b-43f7-e0c8-c00eb2c83066"
   },
   "outputs": [],
   "source": [
    "df.columns"
   ]
  },
  {
   "cell_type": "code",
   "execution_count": null,
   "metadata": {
    "colab": {
     "base_uri": "https://localhost:8080/"
    },
    "id": "ktx7UY8lVN6n",
    "outputId": "9e9d5125-7868-4f65-9df5-e2b972df1209"
   },
   "outputs": [],
   "source": [
    "# 컬럼 정리\n",
    "columns = ['상호명', '상권업종대분류명', '상권업종중분류명', '상권업종소분류명', \n",
    "           '시도명', '시군구명', '행정동명', '법정동명', '도로명주소', \n",
    "           '경도', '위도']\n",
    "df = df[columns].copy()\n",
    "df.shape"
   ]
  },
  {
   "cell_type": "code",
   "execution_count": null,
   "metadata": {
    "colab": {
     "base_uri": "https://localhost:8080/"
    },
    "id": "bS-Ta0acVN6n",
    "outputId": "fc655cbc-33ce-4958-ebdd-d92b7931be1e"
   },
   "outputs": [],
   "source": [
    "df[\"시군구명\"].unique()"
   ]
  },
  {
   "cell_type": "code",
   "execution_count": null,
   "metadata": {},
   "outputs": [],
   "source": [
    "df['상호명_소문자'] = df['상호명'].str.lower()"
   ]
  },
  {
   "cell_type": "code",
   "execution_count": null,
   "metadata": {},
   "outputs": [],
   "source": [
    "df.columns"
   ]
  },
  {
   "cell_type": "code",
   "execution_count": null,
   "metadata": {},
   "outputs": [],
   "source": [
    "df_31 = df[df[\"상호명_소문자\"].str.contains('배스킨라빈스|베스킨라빈스|baskinrobbins|던킨|dunkin')].copy()"
   ]
  },
  {
   "cell_type": "code",
   "execution_count": null,
   "metadata": {
    "colab": {
     "base_uri": "https://localhost:8080/",
     "height": 330
    },
    "id": "QRDVn_xqVN6n",
    "outputId": "422be4ed-a757-4a55-cb51-8390abd5debb"
   },
   "outputs": [],
   "source": [
    "df_31.shape"
   ]
  },
  {
   "cell_type": "code",
   "execution_count": null,
   "metadata": {
    "colab": {
     "base_uri": "https://localhost:8080/",
     "height": 195
    },
    "id": "J-HgdHVTVN6o",
    "outputId": "0b81f830-56ef-476f-e053-4010dbcc1f18"
   },
   "outputs": [],
   "source": [
    "df_31.loc[df_31[\"상호명_소문자\"].str.contains(\"배스킨라빈스|베스킨라빈스|baskinrobbins\"), \"브랜드명\"] = \"배스킨라빈스\"\n",
    "df_31.loc[df_31[\"상호명_소문자\"].str.contains(\"던킨|dunkin\"), \"브랜드명\"] = \"던킨도너츠\""
   ]
  },
  {
   "cell_type": "code",
   "execution_count": null,
   "metadata": {},
   "outputs": [],
   "source": [
    "df_31[[\"상호명\", \"브랜드명\"]].head()"
   ]
  },
  {
   "cell_type": "code",
   "execution_count": null,
   "metadata": {
    "colab": {
     "base_uri": "https://localhost:8080/",
     "height": 1000
    },
    "id": "gc50lMoNVN6o",
    "outputId": "e1967792-0b60-4cab-ef70-2abb3bc780a9"
   },
   "outputs": [],
   "source": [
    "df_31.columns"
   ]
  },
  {
   "cell_type": "code",
   "execution_count": null,
   "metadata": {},
   "outputs": [],
   "source": [
    "df_31 = df_31[df_31['상권업종대분류명'] == '음식']"
   ]
  },
  {
   "cell_type": "code",
   "execution_count": null,
   "metadata": {},
   "outputs": [],
   "source": [
    "df_31.shape"
   ]
  },
  {
   "cell_type": "code",
   "execution_count": null,
   "metadata": {
    "colab": {
     "base_uri": "https://localhost:8080/"
    },
    "id": "iPLnkuaDVN6o",
    "outputId": "8916257c-4d0d-4b11-ba3c-92fe8237f64e"
   },
   "outputs": [],
   "source": [
    "brand_count = df_31[\"브랜드명\"].value_counts() # \"브랜드명\"의 빈도수\n",
    "brand_count"
   ]
  },
  {
   "cell_type": "code",
   "execution_count": null,
   "metadata": {},
   "outputs": [],
   "source": [
    "relative_frequency = df_31[\"브랜드명\"].value_counts(normalize=True)  # normalize=True 빈도수의 비율\n",
    "relative_frequency"
   ]
  },
  {
   "cell_type": "code",
   "execution_count": null,
   "metadata": {},
   "outputs": [],
   "source": [
    "plt.rc('font', family='Malgun Gothic') "
   ]
  },
  {
   "cell_type": "code",
   "execution_count": null,
   "metadata": {
    "colab": {
     "base_uri": "https://localhost:8080/",
     "height": 282
    },
    "id": "_JLsyy7EVN6o",
    "outputId": "84e46a22-6113-4dbd-9172-2ab8f25cd8d4"
   },
   "outputs": [],
   "source": [
    "relative_frequency.plot.barh();"
   ]
  },
  {
   "cell_type": "code",
   "execution_count": null,
   "metadata": {},
   "outputs": [],
   "source": [
    "g = sns.countplot(data=df_31, x=\"브랜드명\")\n",
    "\n",
    "for i, val in enumerate(brand_count):\n",
    "    g.text(x=i, y=val, s=val)\n"
   ]
  },
  {
   "cell_type": "code",
   "execution_count": null,
   "metadata": {
    "colab": {
     "base_uri": "https://localhost:8080/",
     "height": 279
    },
    "id": "qCSTXt6yVN6o",
    "outputId": "5bf4f22e-7462-4c40-a1f9-ec6594212f58"
   },
   "outputs": [],
   "source": [
    "plt.figure(figsize=(15, 4))\n",
    "g = sns.countplot(data=df_31, x=\"시군구명\", hue=\"브랜드명\")"
   ]
  },
  {
   "cell_type": "code",
   "execution_count": null,
   "metadata": {
    "colab": {
     "base_uri": "https://localhost:8080/",
     "height": 225
    },
    "id": "525ykT2RVN6o",
    "outputId": "ebe2cee5-611c-487b-a356-952a3a3b21cb"
   },
   "outputs": [],
   "source": [
    "table_city_brand = df_31.pivot_table(index=\"시군구명\", columns=\"브랜드명\", values=\"상호명\", aggfunc=\"count\")\n",
    "table_city_brand.head()"
   ]
  },
  {
   "cell_type": "code",
   "execution_count": null,
   "metadata": {
    "colab": {
     "base_uri": "https://localhost:8080/",
     "height": 296
    },
    "id": "ArbUQs9GVN6o",
    "outputId": "b0cf250d-3d1d-41c7-a6ce-bac73d48c632"
   },
   "outputs": [],
   "source": [
    "df_31[[\"위도\", \"경도\"]].plot.scatter(x=\"경도\", y=\"위도\");   # 산점도(scatter plot)"
   ]
  },
  {
   "cell_type": "code",
   "execution_count": null,
   "metadata": {
    "colab": {
     "base_uri": "https://localhost:8080/",
     "height": 296
    },
    "id": "w0GKS2YgVN6o",
    "outputId": "b9169191-be4e-42e2-d5b0-9a427b57edd7"
   },
   "outputs": [],
   "source": [
    "sns.scatterplot(data=df_31, x=\"경도\", y=\"위도\", hue=\"브랜드명\");"
   ]
  },
  {
   "cell_type": "markdown",
   "metadata": {},
   "source": [
    "https://python-visualization.github.io/folium/latest/user_guide/map.html"
   ]
  },
  {
   "cell_type": "markdown",
   "metadata": {
    "id": "aVTuDCWYVN6o"
   },
   "source": [
    "지도 시각화를 위한 라이브러리   \n",
    "pip install folium"
   ]
  },
  {
   "cell_type": "code",
   "execution_count": null,
   "metadata": {
    "id": "aVTuDCWYVN6o"
   },
   "outputs": [],
   "source": [
    "import folium"
   ]
  },
  {
   "cell_type": "code",
   "execution_count": null,
   "metadata": {
    "colab": {
     "base_uri": "https://localhost:8080/"
    },
    "id": "aHcUvqvuVN6o",
    "outputId": "9c272246-a4aa-4ef3-d620-77245bfdbb83"
   },
   "outputs": [],
   "source": [
    "# 지도의 중심을 지정하기 위해 위도와 경도의 평균을 구합니다. \n",
    "lat = df_31[\"위도\"].mean()\n",
    "long = df_31[\"경도\"].mean()\n",
    "lat, long"
   ]
  },
  {
   "cell_type": "code",
   "execution_count": null,
   "metadata": {},
   "outputs": [],
   "source": [
    "folium.Map(\n",
    "    location=(lat, long),\n",
    "    control_scale=True,\n",
    ")"
   ]
  },
  {
   "cell_type": "code",
   "execution_count": null,
   "metadata": {
    "colab": {
     "base_uri": "https://localhost:8080/",
     "height": 685
    },
    "id": "yxIaHFe9VN6o",
    "outputId": "87dde1b5-faf6-47a3-e23d-f672a5e41ee6",
    "scrolled": true
   },
   "outputs": [],
   "source": [
    "m = folium.Map([lat, long])\n",
    "\n",
    "folium.Marker(\n",
    "    [37.495593, 127.039032], \n",
    "    popup='<i>던킨도너츠</i>', \n",
    "    tooltip=\"던킨도너츠\").add_to(m)\n",
    "\n",
    "m"
   ]
  },
  {
   "cell_type": "code",
   "execution_count": null,
   "metadata": {
    "colab": {
     "base_uri": "https://localhost:8080/"
    },
    "id": "PUlJcYnnVN6o",
    "outputId": "c0da7d5d-5954-459e-c5cb-35a67fb187c1"
   },
   "outputs": [],
   "source": [
    "df_31.index"
   ]
  },
  {
   "cell_type": "code",
   "execution_count": null,
   "metadata": {
    "colab": {
     "base_uri": "https://localhost:8080/",
     "height": 685
    },
    "id": "nd41_xqZVN6o",
    "outputId": "8c2100c5-6589-4a3f-94ee-270b0f959270"
   },
   "outputs": [],
   "source": [
    "m = folium.Map([lat, long], zoom_start=12)\n",
    "\n",
    "for i in df_31.index:\n",
    "    \n",
    "    sub_lat = df_31.loc[i, \"위도\"]\n",
    "    sub_long = df_31.loc[i, \"경도\"]\n",
    "    title = df_31.loc[i, \"상호명\"] + \" - \" + df_31.loc[i, \"도로명주소\"]\n",
    "    \n",
    "    icon_color = \"blue\"\n",
    "    if df_31.loc[i, \"브랜드명\"] == \"던킨도너츠\":\n",
    "        icon_color = \"red\"\n",
    "    \n",
    "    folium.Marker(\n",
    "        [sub_lat, sub_long], \n",
    "        icon=folium.Icon(color=icon_color),\n",
    "        popup=f'<i>{title}</i>', \n",
    "        tooltip=title).add_to(m)\n",
    "\n",
    "m"
   ]
  },
  {
   "cell_type": "code",
   "execution_count": null,
   "metadata": {
    "colab": {
     "base_uri": "https://localhost:8080/",
     "height": 685
    },
    "id": "-RNLF69XVN6o",
    "outputId": "44620885-7612-42f3-f6f6-a7a1ebdea93c"
   },
   "outputs": [],
   "source": [
    "from folium.plugins import MarkerCluster\n",
    "\n",
    "m = folium.Map([lat, long], zoom_start=12)\n",
    "marker_cluster = MarkerCluster().add_to(m)\n",
    "\n",
    "for i in df_31.index:\n",
    "    \n",
    "    sub_lat = df_31.loc[i, \"위도\"]\n",
    "    sub_long = df_31.loc[i, \"경도\"]\n",
    "    title = df_31.loc[i, \"상호명\"] + \" - \" + df_31.loc[i, \"도로명주소\"]\n",
    "    \n",
    "    icon_color = \"blue\"\n",
    "    if df_31.loc[i, \"브랜드명\"] == \"던킨도너츠\":\n",
    "        icon_color = \"red\"\n",
    "    \n",
    "    folium.Marker(\n",
    "        [sub_lat, sub_long], \n",
    "        icon=folium.Icon(color=icon_color),\n",
    "        popup=f'<i>{title}</i>', \n",
    "        tooltip=title).add_to(marker_cluster)\n",
    "\n",
    "m.save('index.html')\n",
    "m"
   ]
  },
  {
   "cell_type": "code",
   "execution_count": null,
   "metadata": {},
   "outputs": [],
   "source": []
  }
 ],
 "metadata": {
  "colab": {
   "collapsed_sections": [],
   "include_colab_link": true,
   "name": "exam03_DA.ipynb",
   "provenance": []
  },
  "kernelspec": {
   "display_name": "Python 3",
   "language": "python",
   "name": "python3"
  },
  "language_info": {
   "codemirror_mode": {
    "name": "ipython",
    "version": 3
   },
   "file_extension": ".py",
   "mimetype": "text/x-python",
   "name": "python",
   "nbconvert_exporter": "python",
   "pygments_lexer": "ipython3",
   "version": "3.11.7"
  },
  "toc": {
   "base_numbering": 1,
   "nav_menu": {},
   "number_sections": true,
   "sideBar": true,
   "skip_h1_title": false,
   "title_cell": "Table of Contents",
   "title_sidebar": "Contents",
   "toc_cell": false,
   "toc_position": {},
   "toc_section_display": true,
   "toc_window_display": false
  },
  "varInspector": {
   "cols": {
    "lenName": 16,
    "lenType": 16,
    "lenVar": 40
   },
   "kernels_config": {
    "python": {
     "delete_cmd_postfix": "",
     "delete_cmd_prefix": "del ",
     "library": "var_list.py",
     "varRefreshCmd": "print(var_dic_list())"
    },
    "r": {
     "delete_cmd_postfix": ") ",
     "delete_cmd_prefix": "rm(",
     "library": "var_list.r",
     "varRefreshCmd": "cat(var_dic_list()) "
    }
   },
   "types_to_exclude": [
    "module",
    "function",
    "builtin_function_or_method",
    "instance",
    "_Feature"
   ],
   "window_display": false
  }
 },
 "nbformat": 4,
 "nbformat_minor": 4
}
